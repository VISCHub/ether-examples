{
 "cells": [
  {
   "cell_type": "code",
   "execution_count": 108,
   "metadata": {},
   "outputs": [],
   "source": [
    "# https://www.bitaddress.org/\n",
    "# https://en.wikipedia.org/wiki/Base58\n",
    "\n",
    "BASE58_CHARS = '123456789ABCDEFGHJKLMNPQRSTUVWXYZabcdefghijkmnopqrstuvwxyz'\n",
    "\n",
    "\n",
    "def map_base58():\n",
    "    '''Create a map of chars for Base58'''\n",
    "    tmp_dir = {}\n",
    "    i = 0\n",
    "    for c in BASE58_CHARS:\n",
    "        tmp_dir[c] = i\n",
    "        i = i + 1\n",
    "    return tmp_dir\n",
    "\n",
    "\n",
    "BASE58_MAP = map_base58()\n",
    "\n",
    "\n",
    "def base58_enc(in_num):\n",
    "    '''Encode a number into Bitcoin Base58 format'''\n",
    "    if in_num < 0:\n",
    "        raise Exception(\"Positive integers only\")\n",
    "    tmp_out = []\n",
    "    while in_num > 0:\n",
    "        tmp_out.append(BASE58_CHARS[in_num % 58])\n",
    "        in_num = in_num // 58\n",
    "    tmp_out.reverse()\n",
    "    return ''.join(tmp_out)\n",
    "\n",
    "\n",
    "def base58_dec(in_str):\n",
    "    '''Decode a Bitcoin Base58 string to a number'''\n",
    "    out_num = 0\n",
    "    for c in in_str:\n",
    "        if c not in BASE58_MAP:\n",
    "            raise Exception(\"Invalid char, not in Base58: %c\" % c)\n",
    "        out_num = out_num*58 + BASE58_MAP[c]\n",
    "    return out_num\n",
    "\n",
    "\n",
    "def base256_to_base58(raw_str):\n",
    "    '''Convert a raw string to Base58 string'''\n",
    "    leading_zeros = 0\n",
    "    num = 0\n",
    "    for c in raw_str:\n",
    "        if c != 0:\n",
    "            break\n",
    "        leading_zeros = leading_zeros + 1\n",
    "    for c in raw_str:\n",
    "        num = num*256 + c\n",
    "    base58_str = ''.join(leading_zeros*['1']) + base58_enc(num)\n",
    "    return base58_str\n",
    "\n",
    "\n",
    "def base58_to_base256(base58_str):\n",
    "    '''Convert a Base58 string to raw string'''\n",
    "    leading_ones = 0\n",
    "    for c in base58_str:\n",
    "        if c != '1':\n",
    "            break\n",
    "        leading_ones = leading_ones + 1\n",
    "    num = base58_dec(base58_str)\n",
    "    raw_str_suffix_hex = '%02x' % num\n",
    "    if len(raw_str_suffix_hex) % 2:\n",
    "        raw_str_suffix_hex = '0%s' % raw_str_suffix_hex\n",
    "    raw_str_hex = ''.join(leading_ones*['00']) + raw_str_suffix_hex\n",
    "    raw_str = unhexlify(raw_str_hex)\n",
    "    return raw_str"
   ]
  },
  {
   "cell_type": "code",
   "execution_count": 109,
   "metadata": {},
   "outputs": [
    {
     "name": "stdout",
     "output_type": "stream",
     "text": [
      "38\n",
      "123\n",
      "16384730769480552998872844202963833909082627022173914913578359054339044055507470509937806088\n",
      "3233478352685485411235947024398804356817507813717140601691\n"
     ]
    }
   ],
   "source": [
    "# For testing\n",
    "PRIV_KEY_BASE58 = 'L3BQRZyUzNPUPbt1HtGby9UwVb5iz2RyEk9jQk1vqhnL5CwFZHiX'\n",
    "BITCOIN_ADDR_BASE58 = '1D2Gme2513ncWsxB4DchzT3ukeNUXYVv3c'\n",
    "\n",
    "print(base58_enc(123))\n",
    "print(base58_dec('38'))\n",
    "print(base58_dec(PRIV_KEY_BASE58))\n",
    "print(base58_dec(BITCOIN_ADDR_BASE58))"
   ]
  },
  {
   "cell_type": "code",
   "execution_count": 110,
   "metadata": {},
   "outputs": [
    {
     "name": "stdout",
     "output_type": "stream",
     "text": [
      "Signing key:\n",
      "b'18e14a7b6a307f426a94f8114701e7c8e774e7f9a47e2c2035db29a206321725'\n",
      "\n",
      "Verifying key:\n",
      "b'50863ad64a87ae8a2fe83c1af1a8403cb53f53e486d8511dad8a04887e5b23522cd470243453a299fa9e77237716103abc11a1df38855ed6f2ee187e9c582ba6'\n",
      "\n",
      "Full format public key:\n",
      "0450863ad64a87ae8a2fe83c1af1a8403cb53f53e486d8511dad8a04887e5b23522cd470243453a299fa9e77237716103abc11a1df38855ed6f2ee187e9c582ba6\n",
      "\n",
      "600ffe422b4e00731a59557a5cca46cc183944191006324a447bdb2d98d4b408\n",
      "010966776006953d5567439e5e39f86a0d273bee\n",
      "00010966776006953d5567439e5e39f86a0d273bee\n",
      "445c7a8007a93d8733188288bb320a8fe2debd2ae1b47f0f50bc10bae845c094\n",
      "d61967f63c7dd183914a4ae452c9f6ad5d462ce3d277798075b107615c1a8a30\n",
      "b'00010966776006953d5567439e5e39f86a0d273beed61967f6'\n",
      "16UwLL9Risc3QfPqBUvKofHmBQ7wMtjvM\n",
      "b\"\\x00\\x01\\tfw`\\x06\\x95=UgC\\x9e^9\\xf8j\\r';\\xee\\xd6\\x19g\\xf6\"\n"
     ]
    }
   ],
   "source": [
    "# https://en.bitcoin.it/wiki/Technical_background_of_version_1_Bitcoin_addresses\n",
    "# https://github.com/warner/python-ecdsa\n",
    "# https://docs.python.org/3/library/hashlib.html\n",
    "# Terminal: openssl ecparam -list_curves | grep -i secp256k1\n",
    "\n",
    "import struct, hashlib\n",
    "from ecdsa import SigningKey, SECP256k1\n",
    "from binascii import hexlify, unhexlify\n",
    "\n",
    "# Step 0: Having a private ECDSA key\n",
    "priv_key_hex = '18E14A7B6A307F426A94F8114701E7C8E774E7F9A47E2C2035DB29A206321725'\n",
    "priv_key = int(priv_key_hex, 16)\n",
    "secexp = priv_key\n",
    "signing_key = SigningKey.from_secret_exponent(secexp, curve=SECP256k1)\n",
    "sk_hex = hexlify(signing_key.to_string())\n",
    "print('Signing key:\\n%s\\n' % sk_hex)\n",
    "\n",
    "# Step 1: Take the corresponding public key generated with it\n",
    "# (65 bytes, 1 byte 0x04, 32 bytes corresponding to X coordinate,\n",
    "# 32 bytes corresponding to Y coordinate)\n",
    "vk = signing_key.get_verifying_key()\n",
    "vk_hex = hexlify(vk.to_string())\n",
    "print('Verifying key:\\n%s\\n' % vk_hex)\n",
    "full_pub_key_hex = '04%s' % vk_hex.decode('utf-8')\n",
    "full_pub_key = unhexlify(full_pub_key_hex)\n",
    "print('Full format public key:\\n%s\\n' % full_pub_key_hex)\n",
    "assert len(full_pub_key) == 65\n",
    "\n",
    "# Step 2: Perform SHA-256 hashing on the public key\n",
    "sha256_hasher = hashlib.sha256(full_pub_key)\n",
    "print(sha256_hasher.hexdigest())\n",
    "\n",
    "# Step 3: Perform RIPEMD-160 hashing on the result of SHA-256\n",
    "ripemd160_hasher = hashlib.new('ripemd160')\n",
    "ripemd160_hasher.update(sha256_hasher.digest())\n",
    "print(ripemd160_hasher.hexdigest())\n",
    "\n",
    "# Step 4: Add version byte in front of RIPEMD-160 hash (0x00 for Main Network)\n",
    "mainnet_format_hex = '00%s' % ripemd160_hasher.hexdigest()\n",
    "print(mainnet_format_hex)\n",
    "mainnet_format = unhexlify(mainnet_format_hex)\n",
    "\n",
    "# Step 5: Perform SHA-256 hash on the extended RIPEMD-160 result\n",
    "sha256_hasher = hashlib.sha256(mainnet_format)\n",
    "print(sha256_hasher.hexdigest())\n",
    "\n",
    "# Step 6: Perform SHA-256 hash on the result of the previous SHA-256 hash\n",
    "sha256_hasher2 = hashlib.sha256(sha256_hasher.digest())\n",
    "print(sha256_hasher2.hexdigest())\n",
    "\n",
    "# Step 7: Take the first 4 bytes of the second SHA-256 hash. This is the address checksum\n",
    "first_4bytes = sha256_hasher2.digest()[:4]\n",
    "\n",
    "# Step 8: Add the 4 checksum bytes from stage 7 at the end of\n",
    "# extended RIPEMD-160 hash from stage 4.\n",
    "# This is the 25-byte binary Bitcoin Address.\n",
    "bitcoin_addr_raw = mainnet_format + first_4bytes\n",
    "assert len(bitcoin_addr_raw) == 25\n",
    "bitcoin_addr_hex = hexlify(bitcoin_addr_raw)\n",
    "print(bitcoin_addr_hex)\n",
    "\n",
    "# Step 9: Convert the result from a byte string into a base58 string using Base58Check encoding.\n",
    "# This is the most commonly used Bitcoin Address format\n",
    "bitcoin_addr = base256_to_base58(bitcoin_addr_raw)\n",
    "print(bitcoin_addr)\n",
    "bitcoin_addr_raw_again = base58_to_base256(bitcoin_addr)\n",
    "print(bitcoin_addr_raw_again)\n",
    "assert bitcoin_addr_raw_again == bitcoin_addr_raw"
   ]
  },
  {
   "cell_type": "code",
   "execution_count": 42,
   "metadata": {},
   "outputs": [
    {
     "name": "stdout",
     "output_type": "stream",
     "text": [
      "b'\\x1a\\xf8\\x9c\\xc8.\\xbe\\x84\\xffpM\\xaa\\xa0\\xf6\\x06\\xafS\\x05\\xda|\\xaa\\x92\\xadd\\x8b\\xce\\xc7z\\xfa\\xaa0u\\x9c\\x93N\\xec\\x8as\\xdb\\xfb\\xebs\\xfdd~NA*\\xc5'\n",
      "<ecdsa.keys.SigningKey object at 0x1065c7668>\n",
      "<ecdsa.keys.SigningKey object at 0x1065b3860>\n"
     ]
    }
   ],
   "source": [
    "from ecdsa import SigningKey, NIST384p\n",
    "sk = SigningKey.generate(curve=NIST384p)\n",
    "sk_string = sk.to_string()\n",
    "sk2 = SigningKey.from_string(sk_string, curve=NIST384p)\n",
    "\n",
    "print(sk_string)\n",
    "print(sk)\n",
    "print(sk2)"
   ]
  },
  {
   "cell_type": "code",
   "execution_count": 107,
   "metadata": {},
   "outputs": [
    {
     "name": "stdout",
     "output_type": "stream",
     "text": [
      "num =  25420294593250030202636073700053352635053786165627414518\n",
      "num_str =  00010966776006953d5567439e5e39f86a0d273beed61967f6  len =  50\n"
     ]
    }
   ],
   "source": [
    "num = base58_dec('16UwLL9Risc3QfPqBUvKofHmBQ7wMtjvM')\n",
    "print('num = ', num)\n",
    "num_str = '%050x' % num\n",
    "print('num_str = ', num_str, ' len = ', len(num_str))"
   ]
  },
  {
   "cell_type": "code",
   "execution_count": null,
   "metadata": {
    "collapsed": true
   },
   "outputs": [],
   "source": []
  },
  {
   "cell_type": "code",
   "execution_count": null,
   "metadata": {
    "collapsed": true
   },
   "outputs": [],
   "source": []
  }
 ],
 "metadata": {
  "kernelspec": {
   "display_name": "Python 3",
   "language": "python",
   "name": "python3"
  },
  "language_info": {
   "codemirror_mode": {
    "name": "ipython",
    "version": 3
   },
   "file_extension": ".py",
   "mimetype": "text/x-python",
   "name": "python",
   "nbconvert_exporter": "python",
   "pygments_lexer": "ipython3",
   "version": "3.6.3"
  }
 },
 "nbformat": 4,
 "nbformat_minor": 2
}
