{
 "cells": [
  {
   "cell_type": "code",
   "execution_count": 18,
   "metadata": {},
   "outputs": [],
   "source": [
    "# https://www.bitaddress.org/\n",
    "# https://en.wikipedia.org/wiki/Base58\n",
    "\n",
    "BASE58_CHARS = '123456789ABCDEFGHJKLMNPQRSTUVWXYZabcdefghijkmnopqrstuvwxyz'\n",
    "\n",
    "\n",
    "def map_base58():\n",
    "    '''Create a map of chars for Base58'''\n",
    "    tmp_dir = {}\n",
    "    i = 0\n",
    "    for c in BASE58_CHARS:\n",
    "        tmp_dir[c] = i\n",
    "        i = i + 1\n",
    "    return tmp_dir\n",
    "\n",
    "\n",
    "BASE58_MAP = map_base58()\n",
    "\n",
    "\n",
    "def base58_enc(in_num):\n",
    "    '''Encode a number into Bitcoin Base58 format'''\n",
    "    if in_num < 0:\n",
    "        raise Exception(\"Positive integers only\")\n",
    "    tmp_out = []\n",
    "    while in_num > 0:\n",
    "        tmp_out.append(BASE58_CHARS[in_num % 58])\n",
    "        in_num = in_num // 58\n",
    "    tmp_out.reverse()\n",
    "    return ''.join(tmp_out)\n",
    "\n",
    "\n",
    "def base58_dec(in_str):\n",
    "    '''Decode a Bitcoin Base58 string to a number'''\n",
    "    out_num = 0\n",
    "    for c in in_str:\n",
    "        if c not in BASE58_MAP:\n",
    "            raise Exception(\"Invalid char, not in Base58: %c\" % c)\n",
    "        out_num = out_num*58 + BASE58_MAP[c]\n",
    "    return out_num"
   ]
  },
  {
   "cell_type": "code",
   "execution_count": 19,
   "metadata": {},
   "outputs": [
    {
     "name": "stdout",
     "output_type": "stream",
     "text": [
      "38\n",
      "123\n",
      "16384730769480552998872844202963833909082627022173914913578359054339044055507470509937806088\n",
      "3233478352685485411235947024398804356817507813717140601691\n"
     ]
    }
   ],
   "source": [
    "# For testing\n",
    "PRIV_KEY_BASE58 = 'L3BQRZyUzNPUPbt1HtGby9UwVb5iz2RyEk9jQk1vqhnL5CwFZHiX'\n",
    "BITCOIN_ADDR_BASE58 = '1D2Gme2513ncWsxB4DchzT3ukeNUXYVv3c'\n",
    "\n",
    "print(base58_enc(123))\n",
    "print(base58_dec('38'))\n",
    "print(base58_dec(PRIV_KEY_BASE58))\n",
    "print(base58_dec(BITCOIN_ADDR_BASE58))"
   ]
  },
  {
   "cell_type": "code",
   "execution_count": null,
   "metadata": {
    "collapsed": true
   },
   "outputs": [],
   "source": []
  }
 ],
 "metadata": {
  "kernelspec": {
   "display_name": "Python 3",
   "language": "python",
   "name": "python3"
  },
  "language_info": {
   "codemirror_mode": {
    "name": "ipython",
    "version": 3
   },
   "file_extension": ".py",
   "mimetype": "text/x-python",
   "name": "python",
   "nbconvert_exporter": "python",
   "pygments_lexer": "ipython3",
   "version": "3.6.3"
  }
 },
 "nbformat": 4,
 "nbformat_minor": 2
}
